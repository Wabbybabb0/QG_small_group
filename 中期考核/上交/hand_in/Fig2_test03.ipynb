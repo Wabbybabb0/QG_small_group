{
 "cells": [
  {
   "cell_type": "code",
   "execution_count": 14,
   "id": "746f01c2",
   "metadata": {},
   "outputs": [],
   "source": [
    "import numpy as np\n",
    "import pandas as pd\n",
    "import math\n",
    "import matplotlib.pyplot as plt\n",
    "from collections import Counter"
   ]
  },
  {
   "cell_type": "code",
   "execution_count": 15,
   "id": "74f0cd42",
   "metadata": {},
   "outputs": [],
   "source": [
    "def creat_agents(L):\n",
    "    \"\"\"\n",
    "    输入：\n",
    "    L scaler 范围\n",
    "    \n",
    "    输出：\n",
    "    X nparray(n,)\n",
    "    \"\"\"\n",
    "    X = np.linspace(0,L,100*L)\n",
    "    return X"
   ]
  },
  {
   "cell_type": "code",
   "execution_count": 16,
   "id": "e625e1aa",
   "metadata": {},
   "outputs": [],
   "source": [
    "def opinion_update(X_t):\n",
    "    \"\"\"\n",
    "    输入：\n",
    "    X_t        ndarray(n,)  \n",
    "    \n",
    "    输出：\n",
    "    X_         ndarray(n,)\n",
    "    \"\"\"\n",
    "    m = X_t.shape[0]\n",
    "    X_ = np.zeros(m)\n",
    "    \n",
    "    for i in range(m):\n",
    "        neighbor = 0\n",
    "        times = 0\n",
    "        for j in range(m):\n",
    "             if(np.abs(X_t[i] - X_t[j]) < 1):\n",
    "                neighbor += X_t[j]\n",
    "                times += 1\n",
    "        X_[i] = neighbor/times\n",
    "    return X_"
   ]
  },
  {
   "cell_type": "code",
   "execution_count": 17,
   "id": "64066b38",
   "metadata": {},
   "outputs": [],
   "source": [
    "def get_clusters(L,X):\n",
    "    \"\"\"\n",
    "    输入：\n",
    "    L scaler\n",
    "    X ndarray(n,)\n",
    "    输出：\n",
    "    L_result ndarray\n",
    "    \"\"\"\n",
    "    m = X.shape[0]\n",
    "    L_all =[]\n",
    "    L_set = set()\n",
    "    L_result = []\n",
    "    index_num = L + 1\n",
    "    for i in range(index_num):\n",
    "        index = (int)(m/L)*i - 1\n",
    "        L_all.append(X[index])\n",
    "    for num in L_all:\n",
    "        if num not in L_result:\n",
    "            L_set.add(num)\n",
    "            L_result.append(num)\n",
    "    L_result = np.array(L_result)\n",
    "\n",
    "    return L_result"
   ]
  },
  {
   "cell_type": "code",
   "execution_count": 18,
   "id": "e127ac8d",
   "metadata": {},
   "outputs": [],
   "source": [
    "def update_and_plot(X, iteration):\n",
    "    m = X.shape[0]\n",
    "    y_0 = np.zeros(m)\n",
    "    plt.figure(figsize=(5,5))\n",
    "    plt.scatter(y_0,X,s=1)\n",
    "    for i in range(iteration):\n",
    "        y = y_0 + i\n",
    "        X = opinion_update(X)\n",
    "        plt.scatter(y,X,s=1)\n",
    "    return X"
   ]
  },
  {
   "cell_type": "code",
   "execution_count": 28,
   "id": "2a10dcbd",
   "metadata": {},
   "outputs": [],
   "source": [
    "def get_and_draw(L,X_clusters):\n",
    "    m = X_clusters.shape[0]\n",
    "    distance = np.zeros(m)\n",
    "    distance = distance + L/2\n",
    "    y = X_clusters - distance\n",
    "    x = np.zeros(m)\n",
    "    x = x + L\n",
    "    for i in range(m):\n",
    "        plt.scatter(x[i],y[i],s=1)\n",
    "    return y"
   ]
  },
  {
   "cell_type": "code",
   "execution_count": 29,
   "id": "af1e6285",
   "metadata": {},
   "outputs": [
    {
     "data": {
      "image/png": "[encoded data removed]",
      "text/plain": [
       "<Figure size 500x500 with 1 Axes>"
      ]
     },
     "metadata": {},
     "output_type": "display_data"
    }
   ],
   "source": [
    "X_15 = creat_agents(15)\n",
    "X_15_result = update_and_plot(X_15,20)"
   ]
  },
  {
   "cell_type": "code",
   "execution_count": 21,
   "id": "658f6735",
   "metadata": {},
   "outputs": [
    {
     "data": {
      "text/plain": [
       "array([13.45259676,  1.54740324,  3.81737679,  6.08612306,  7.5       ,\n",
       "        8.91387694, 11.18262321])"
      ]
     },
     "execution_count": 21,
     "metadata": {},
     "output_type": "execute_result"
    }
   ],
   "source": [
    "X_15_L = get_clusters(15,X_15_result)\n",
    "X_15_L"
   ]
  },
  {
   "cell_type": "code",
   "execution_count": 33,
   "id": "c40c57dd",
   "metadata": {},
   "outputs": [
    {
     "data": {
      "image/png": "[encoded data removed]",
      "text/plain": [
       "<Figure size 300x300 with 1 Axes>"
      ]
     },
     "metadata": {},
     "output_type": "display_data"
    }
   ],
   "source": [
    "plt.figure(figsize=(3,3))\n",
    "plt.xlabel(\"L\")\n",
    "plt.ylabel(\"x-L/2\")\n",
    "y = get_and_draw(15,X_15_L)"
   ]
  },
  {
   "cell_type": "code",
   "execution_count": 34,
   "id": "315c6308",
   "metadata": {},
   "outputs": [
    {
     "data": {
      "text/plain": [
       "array([ 5.95259676, -5.95259676, -3.68262321, -1.41387694,  0.        ,\n",
       "        1.41387694,  3.68262321])"
      ]
     },
     "execution_count": 34,
     "metadata": {},
     "output_type": "execute_result"
    }
   ],
   "source": [
    "y"
   ]
  },
  {
   "cell_type": "code",
   "execution_count": null,
   "id": "50bc8491",
   "metadata": {},
   "outputs": [],
   "source": []
  }
 ],
 "metadata": {
  "kernelspec": {
   "display_name": "Python 3 (ipykernel)",
   "language": "python",
   "name": "python3"
  },
  "language_info": {
   "codemirror_mode": {
    "name": "ipython",
    "version": 3
   },
   "file_extension": ".py",
   "mimetype": "text/x-python",
   "name": "python",
   "nbconvert_exporter": "python",
   "pygments_lexer": "ipython3",
   "version": "3.9.13"
  }
 },
 "nbformat": 4,
 "nbformat_minor": 5
}
