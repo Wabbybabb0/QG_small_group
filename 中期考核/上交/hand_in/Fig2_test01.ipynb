{
 "cells": [
  {
   "cell_type": "code",
   "execution_count": 177,
   "id": "0d03436c",
   "metadata": {},
   "outputs": [],
   "source": [
    "import numpy as np\n",
    "import pandas as pd\n",
    "import math\n",
    "import matplotlib.pyplot as plt\n",
    "from collections import Counter"
   ]
  },
  {
   "cell_type": "markdown",
   "id": "25ba9b83",
   "metadata": {},
   "source": [
    "### 创建范围在[0,L]的多智能体"
   ]
  },
  {
   "cell_type": "code",
   "execution_count": 178,
   "id": "dedeef25",
   "metadata": {},
   "outputs": [],
   "source": [
    "def creat_agents(L):\n",
    "    \"\"\"\n",
    "    输入：\n",
    "    L scaler 范围\n",
    "    \n",
    "    输出：\n",
    "    X nparray(n,)\n",
    "    \"\"\"\n",
    "    X = np.linspace(0,L,100*L)\n",
    "    return X"
   ]
  },
  {
   "cell_type": "markdown",
   "id": "e51c25d7",
   "metadata": {},
   "source": [
    "### 智能体更新"
   ]
  },
  {
   "cell_type": "code",
   "execution_count": 179,
   "id": "9ad553b2",
   "metadata": {},
   "outputs": [],
   "source": [
    "def opinion_update(X_t):\n",
    "    \"\"\"\n",
    "    输入：\n",
    "    X_t        ndarray(n,)  \n",
    "    \n",
    "    输出：\n",
    "    X_         ndarray(n,)\n",
    "    \"\"\"\n",
    "    m = X_t.shape[0]\n",
    "    X_ = np.zeros(m)\n",
    "    \n",
    "    for i in range(m):\n",
    "        neighbor = 0\n",
    "        times = 0\n",
    "        for j in range(m):\n",
    "             if(np.abs(X_t[i] - X_t[j]) < 1):\n",
    "                neighbor += X_t[j]\n",
    "                times += 1\n",
    "        X_[i] = neighbor/times\n",
    "    return X_"
   ]
  },
  {
   "cell_type": "markdown",
   "id": "29cd7cd0",
   "metadata": {},
   "source": [
    "### 找收敛点"
   ]
  },
  {
   "cell_type": "code",
   "execution_count": 180,
   "id": "378087ee",
   "metadata": {},
   "outputs": [],
   "source": [
    "def get_clusters(L,X):\n",
    "    \"\"\"\n",
    "    输入：\n",
    "    L scaler\n",
    "    X ndarray(n,)\n",
    "    输出：\n",
    "    L_result ndarray\n",
    "    \"\"\"\n",
    "    m = X.shape[0]\n",
    "    L_all =[]\n",
    "    L_set = set()\n",
    "    L_result = []\n",
    "    index_num = L + 1\n",
    "    for i in range(index_num):\n",
    "        index = (int)(m/L)*i - 1\n",
    "        L_all.append(X[index])\n",
    "    for num in L_all:\n",
    "        if num not in L_result:\n",
    "            L_set.add(num)\n",
    "            L_result.append(num)\n",
    "    L_result = np.array(L_result)\n",
    "\n",
    "    return L_result"
   ]
  },
  {
   "cell_type": "code",
   "execution_count": 181,
   "id": "bb127fd9",
   "metadata": {},
   "outputs": [],
   "source": [
    "X_10 = creat_agents(10)"
   ]
  },
  {
   "cell_type": "code",
   "execution_count": 191,
   "id": "bc1add38",
   "metadata": {},
   "outputs": [],
   "source": [
    "def update_and_plot(X, iteration):\n",
    "    m = X.shape[0]\n",
    "    y_0 = np.zeros(m)\n",
    "    plt.figure(figsize=(5,5))\n",
    "    plt.scatter(y_0,X,s=1)\n",
    "\n",
    "    for i in range(iteration):\n",
    "        y = y_0 + i\n",
    "        X = opinion_update(X)\n",
    "        plt.scatter(y,X,s=1)\n",
    "    return X"
   ]
  },
  {
   "cell_type": "code",
   "execution_count": 192,
   "id": "bd03fc34",
   "metadata": {},
   "outputs": [
    {
     "data": {
      "image/png": "[encoded data removed]",
      "text/plain": [
       "<Figure size 500x500 with 1 Axes>"
      ]
     },
     "metadata": {},
     "output_type": "display_data"
    }
   ],
   "source": [
    "X_10_result = update_and_plot(X_1,15)"
   ]
  },
  {
   "cell_type": "code",
   "execution_count": 193,
   "id": "baa8b28b",
   "metadata": {},
   "outputs": [
    {
     "data": {
      "text/plain": [
       "array([8.45858825, 1.54141175, 3.9728637 , 6.0271363 ])"
      ]
     },
     "execution_count": 193,
     "metadata": {},
     "output_type": "execute_result"
    }
   ],
   "source": [
    "X_10_L = get_clusters(10,X_10_result)\n",
    "X_10_L"
   ]
  },
  {
   "cell_type": "code",
   "execution_count": 194,
   "id": "4fda92f2",
   "metadata": {},
   "outputs": [],
   "source": [
    "def get_and_draw(L,X_clusters):\n",
    "    m = X_clusters.shape[0]\n",
    "    distance = np.zeros(m)\n",
    "    distance = distance + L/2\n",
    "    y = X_clusters - distance\n",
    "    x = np.zeros(m)\n",
    "    x = x + L\n",
    "    for i in range(m):\n",
    "        plt.scatter(x[i],y[i],s=1)\n",
    "    return y"
   ]
  },
  {
   "cell_type": "code",
   "execution_count": 195,
   "id": "00c7b56d",
   "metadata": {},
   "outputs": [
    {
     "data": {
      "image/png": "[encoded data removed]",
      "text/plain": [
       "<Figure size 300x300 with 1 Axes>"
      ]
     },
     "metadata": {},
     "output_type": "display_data"
    }
   ],
   "source": [
    "plt.figure(figsize=(3,3))\n",
    "plt.xlabel(\"L\")\n",
    "plt.ylabel(\"x-L/2\")\n",
    "y = get_and_draw(10,X_10_L)"
   ]
  },
  {
   "cell_type": "code",
   "execution_count": 187,
   "id": "296ef230",
   "metadata": {},
   "outputs": [
    {
     "data": {
      "text/plain": [
       "array([ 3.45858825, -3.45858825, -1.0271363 ,  1.0271363 ])"
      ]
     },
     "execution_count": 187,
     "metadata": {},
     "output_type": "execute_result"
    }
   ],
   "source": [
    "y"
   ]
  },
  {
   "cell_type": "code",
   "execution_count": null,
   "id": "11c9b097",
   "metadata": {},
   "outputs": [],
   "source": []
  }
 ],
 "metadata": {
  "kernelspec": {
   "display_name": "Python 3 (ipykernel)",
   "language": "python",
   "name": "python3"
  },
  "language_info": {
   "codemirror_mode": {
    "name": "ipython",
    "version": 3
   },
   "file_extension": ".py",
   "mimetype": "text/x-python",
   "name": "python",
   "nbconvert_exporter": "python",
   "pygments_lexer": "ipython3",
   "version": "3.9.13"
  }
 },
 "nbformat": 4,
 "nbformat_minor": 5
}
